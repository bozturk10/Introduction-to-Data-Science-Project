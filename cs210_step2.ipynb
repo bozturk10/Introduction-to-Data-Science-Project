{
 "cells": [
  {
   "cell_type": "code",
   "execution_count": null,
   "metadata": {
    "scrolled": true
   },
   "outputs": [],
   "source": [
    "import pandas as pd \n",
    "import numpy as np \n",
    "import seaborn as sns\n",
    "import matplotlib.pyplot as plt\n",
    "import spotipy \n",
    "import csv\n",
    "import json\n",
    "\n",
    "df= pd.read_csv('top_21000_in_year.csv',nrows=10001) \n",
    "df"
   ]
  },
  {
   "cell_type": "code",
   "execution_count": null,
   "metadata": {},
   "outputs": [],
   "source": [
    "import spotipy\n",
    "from spotipy.oauth2 import SpotifyClientCredentials \n",
    "cid =\"\" #username for the spotify developer interface \n",
    "secret = \"\" # \n",
    "client_credentials_manager = SpotifyClientCredentials(client_id=cid, client_secret=secret) \n",
    "sp = spotipy.Spotify(client_credentials_manager=client_credentials_manager) \n",
    "sp.trace=False\n",
    "\n",
    "features = []\n",
    "moods=[]\n",
    "for i in range(0,len(df['URL']),50):    \n",
    "    audio_features = sp.audio_features(df['URL'][i:i+50])\n",
    "    for track in audio_features:\n",
    "        features.append(track)\n",
    "\n",
    "from pandas import DataFrame\n",
    "df_features=DataFrame.from_dict(features, orient='columns', dtype= None)\n",
    "df_features.drop(['analysis_url','track_href', 'type', 'uri','time_signature','id'], axis=1, inplace=True)\n",
    "df= pd.concat([df, df_features], axis=1)\n",
    "#df.to_csv('top_10000_in_year_with_features.csv', encoding='utf-8')"
   ]
  },
  {
   "cell_type": "code",
   "execution_count": null,
   "metadata": {},
   "outputs": [],
   "source": [
    "features =[]\n",
    "moods=[]\n",
    "for i in range(0,len(df['URL']),50):    \n",
    "    audio_features = sp.audio_features(df['URL'][i:i+50])\n",
    "    for track in audio_features:\n",
    "        energy= track['energy']\n",
    "        valence= track['valence']\n",
    "        moods.append(set_mood(float(energy),float(valence)) )\n",
    "        features.append(track)\n",
    "\n",
    "df_moods=DataFrame(moods)"
   ]
  },
  {
   "cell_type": "code",
   "execution_count": null,
   "metadata": {},
   "outputs": [],
   "source": [
    "df['key'].describe()"
   ]
  },
  {
   "cell_type": "code",
   "execution_count": null,
   "metadata": {},
   "outputs": [],
   "source": [
    "def population_means():    \n",
    "    int_columns= ['key','Streams','acousticness','danceability','duration_ms','energy','loudness','liveness','valence','tempo']\n",
    "    for column in int_columns :\n",
    "        mean = df[column].mean()\n",
    "        print(\"Mean of \" + column + \" in the total list:\" + str(mean) )\n",
    "\n",
    "population_means()"
   ]
  },
  {
   "cell_type": "code",
   "execution_count": null,
   "metadata": {},
   "outputs": [],
   "source": [
    "def population_histograms():\n",
    "    int_columns= ['key','acousticness','danceability','duration_ms','energy','loudness','liveness','valence','tempo']\n",
    "    for column in int_columns :\n",
    "        plt.hist(df[column], bins=100)\n",
    "        #plt.axvline(df[column].mean(), color='r', linestyle='dashed', linewidth=1)\n",
    "        plt.xlabel(column)\n",
    "        plt.ylabel('Count')\n",
    "        plt.show()\n",
    "population_histograms()"
   ]
  },
  {
   "cell_type": "code",
   "execution_count": null,
   "metadata": {},
   "outputs": [],
   "source": [
    "import scipy.stats as stats\n",
    "import statsmodels.api as sm\n",
    "\n",
    "sm.qqplot(df['energy'])\n",
    "plt.show()"
   ]
  },
  {
   "cell_type": "code",
   "execution_count": null,
   "metadata": {},
   "outputs": [],
   "source": [
    "cols = list(df.columns.values)\n",
    "print(cols)\n",
    "df= df[['Position', 'Track Name', 'Artist', 'URL','Streams', 'duration_ms','mode', 'acousticness', 'danceability', 'energy',  'instrumentalness', 'liveness', 'loudness', 'speechiness', 'tempo', 'valence']]\n",
    "df.head()"
   ]
  },
  {
   "cell_type": "code",
   "execution_count": null,
   "metadata": {},
   "outputs": [],
   "source": [
    "audio_features=df.loc[:,\"Streams\":\"valence\"]\n",
    "corr_features=audio_features.corr()\n",
    "corr_features"
   ]
  },
  {
   "cell_type": "code",
   "execution_count": null,
   "metadata": {},
   "outputs": [],
   "source": [
    "audio_features=df.loc[:,\"Streams\":\"valence\"]\n",
    "corr_features=audio_features.corr()\n",
    "corr_features\n",
    "import seaborn as sns\n",
    "fig = plt.figure(figsize=(8,8))\n",
    "sns.heatmap(corr_features); "
   ]
  },
  {
   "cell_type": "code",
   "execution_count": null,
   "metadata": {},
   "outputs": [],
   "source": [
    "df_sample= df.head(500)\n",
    "df_sample"
   ]
  },
  {
   "cell_type": "code",
   "execution_count": null,
   "metadata": {},
   "outputs": [],
   "source": [
    "def sample_histograms():\n",
    "    int_columns= ['acousticness','danceability','duration_ms','energy','loudness','liveness','valence','tempo']\n",
    "    for column in int_columns :\n",
    "        plt.hist(df_sample[column], bins=30)\n",
    "        plt.axvline(df_sample[column].mean(), color='r', linestyle='dashed', linewidth=1)\n",
    "        plt.xlabel(column)\n",
    "        plt.ylabel('Count')\n",
    "        plt.show()\n",
    "\n",
    "sample_histograms()\n"
   ]
  },
  {
   "cell_type": "code",
   "execution_count": null,
   "metadata": {},
   "outputs": [],
   "source": [
    "df.describe()"
   ]
  },
  {
   "cell_type": "code",
   "execution_count": null,
   "metadata": {},
   "outputs": [],
   "source": [
    "df_sample.describe()"
   ]
  },
  {
   "cell_type": "code",
   "execution_count": null,
   "metadata": {},
   "outputs": [],
   "source": []
  },
  {
   "cell_type": "code",
   "execution_count": null,
   "metadata": {},
   "outputs": [],
   "source": [
    "from scipy import stats\n",
    "#since acousticness doesn't have a normal distribution, this feature can't be tested by T-test\n",
    "int_columns= ['danceability','duration_ms','energy','loudness','valence','tempo']\n",
    "for column in int_columns :\n",
    "    pop_mean= np.mean(df[column])\n",
    "    print ('Population mean of ', column ,' :            ',pop_mean)\n",
    "    pop_std=np.std(df[column])\n",
    "    print ('Population standard deviation of ', column ,' : ', pop_std)\n",
    "    sample_mean=np.mean(df_sample[column])\n",
    "    print ('Top 500- Sample mean of ', column ,' : ', sample_mean)\n",
    "    sample_std=np.std(df_sample[column])\n",
    "    print ('Top 500- Sample standard deviation of ', column ,' : ', sample_std)\n",
    "    print('T-test results for ',column,' :',stats.ttest_1samp(df_sample[column],pop_mean))\n",
    "    print('--------------------------------------------------------------------------------')"
   ]
  },
  {
   "cell_type": "code",
   "execution_count": null,
   "metadata": {},
   "outputs": [],
   "source": [
    "\n"
   ]
  }
 ],
 "metadata": {
  "kernelspec": {
   "display_name": "Python 3",
   "language": "python",
   "name": "python3"
  },
  "language_info": {
   "codemirror_mode": {
    "name": "ipython",
    "version": 3
   },
   "file_extension": ".py",
   "mimetype": "text/x-python",
   "name": "python",
   "nbconvert_exporter": "python",
   "pygments_lexer": "ipython3",
   "version": "3.6.4"
  }
 },
 "nbformat": 4,
 "nbformat_minor": 2
}
